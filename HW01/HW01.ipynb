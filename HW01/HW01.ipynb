{
  "nbformat": 4,
  "nbformat_minor": 0,
  "metadata": {
    "colab": {
      "name": "ML2021Spring - HW1.ipynb",
      "provenance": [],
      "include_colab_link": true
    },
    "kernelspec": {
      "name": "python3",
      "display_name": "Python 3"
    },
    "accelerator": "GPU"
  },
  "cells": [
    {
      "cell_type": "markdown",
      "metadata": {
        "id": "view-in-github",
        "colab_type": "text"
      },
      "source": [
        "<a href=\"https://colab.research.google.com/github/danma404/109-1-inclass-practice/blob/master/HW01/HW01.ipynb\" target=\"_parent\"><img src=\"https://colab.research.google.com/assets/colab-badge.svg\" alt=\"Open In Colab\"/></a>"
      ]
    },
    {
      "cell_type": "markdown",
      "metadata": {
        "id": "mz0_QVkxCrX3"
      },
      "source": [
        "# **Homework 1: COVID-19 Cases Prediction (Regression)**"
      ]
    },
    {
      "cell_type": "markdown",
      "metadata": {
        "id": "ZeZnPAiwDRWG"
      },
      "source": [
        "Author: Heng-Jui Chang\n",
        "\n",
        "Slides: https://github.com/ga642381/ML2021-Spring/blob/main/HW01/HW01.pdf  \n",
        "Videos (Mandarin): https://cool.ntu.edu.tw/courses/4793/modules/items/172854  \n",
        "https://cool.ntu.edu.tw/courses/4793/modules/items/172853  \n",
        "Video (English): https://cool.ntu.edu.tw/courses/4793/modules/items/176529\n",
        "\n",
        "\n",
        "Objectives:\n",
        "* Solve a regression problem with deep neural networks (DNN).\n",
        "* Understand basic DNN training tips.\n",
        "* Get familiar with PyTorch.\n",
        "\n",
        "If any questions, please contact the TAs via TA hours, NTU COOL, or email.\n"
      ]
    },
    {
      "cell_type": "markdown",
      "metadata": {
        "id": "Jx3x1nDkG-Uy"
      },
      "source": [
        "# **Download Data**\n",
        "\n",
        "\n",
        "If the Google drive links are dead, you can download data from [kaggle](https://www.kaggle.com/c/ml2021spring-hw1/data), and upload data manually to the workspace."
      ]
    },
    {
      "cell_type": "code",
      "metadata": {
        "colab": {
          "base_uri": "https://localhost:8080/"
        },
        "id": "tMj55YDKG6ch",
        "outputId": "d1b84ff3-86a3-4034-ccbd-e02a9263a957"
      },
      "source": [
        "tr_path = 'covid.train.csv'  # path to training data\n",
        "tt_path = 'covid.test.csv'   # path to testing data\n",
        "\n",
        "!gdown --id '19CCyCgJrUxtvgZF53vnctJiOJ23T5mqF' --output covid.train.csv\n",
        "!gdown --id '1CE240jLm2npU-tdz81-oVKEF3T2yfT1O' --output covid.test.csv"
      ],
      "execution_count": 213,
      "outputs": [
        {
          "output_type": "stream",
          "name": "stdout",
          "text": [
            "/usr/local/lib/python3.11/dist-packages/gdown/__main__.py:140: FutureWarning: Option `--id` was deprecated in version 4.3.1 and will be removed in 5.0. You don't need to pass it anymore to use a file ID.\n",
            "  warnings.warn(\n",
            "Downloading...\n",
            "From: https://drive.google.com/uc?id=19CCyCgJrUxtvgZF53vnctJiOJ23T5mqF\n",
            "To: /content/covid.train.csv\n",
            "100% 2.00M/2.00M [00:00<00:00, 15.4MB/s]\n",
            "/usr/local/lib/python3.11/dist-packages/gdown/__main__.py:140: FutureWarning: Option `--id` was deprecated in version 4.3.1 and will be removed in 5.0. You don't need to pass it anymore to use a file ID.\n",
            "  warnings.warn(\n",
            "Downloading...\n",
            "From: https://drive.google.com/uc?id=1CE240jLm2npU-tdz81-oVKEF3T2yfT1O\n",
            "To: /content/covid.test.csv\n",
            "100% 651k/651k [00:00<00:00, 7.38MB/s]\n"
          ]
        }
      ]
    },
    {
      "cell_type": "markdown",
      "metadata": {
        "id": "wS_4-77xHk44"
      },
      "source": [
        "# **Import Some Packages**"
      ]
    },
    {
      "cell_type": "code",
      "metadata": {
        "id": "k-onQd4JNA5H"
      },
      "source": [
        "# PyTorch\n",
        "import torch\n",
        "import torch.nn as nn\n",
        "from torch.utils.data import Dataset, DataLoader\n",
        "\n",
        "# For data preprocess\n",
        "import numpy as np\n",
        "import csv\n",
        "import os\n",
        "# for Feature selection\n",
        "import pandas as pd\n",
        "# For plotting\n",
        "import matplotlib.pyplot as plt\n",
        "from matplotlib.pyplot import figure\n",
        "\n",
        "myseed = 42069  # set a random seed for reproducibility\n",
        "torch.backends.cudnn.deterministic = True\n",
        "torch.backends.cudnn.benchmark = False\n",
        "np.random.seed(myseed)\n",
        "torch.manual_seed(myseed)\n",
        "if torch.cuda.is_available():\n",
        "    torch.cuda.manual_seed_all(myseed)"
      ],
      "execution_count": 214,
      "outputs": []
    },
    {
      "cell_type": "markdown",
      "metadata": {
        "id": "BtE3b6JEH7rw"
      },
      "source": [
        "# **Some Utilities**\n",
        "\n",
        "You do not need to modify this part."
      ]
    },
    {
      "cell_type": "code",
      "metadata": {
        "id": "FWMT3uf1NGQp"
      },
      "source": [
        "def get_device():\n",
        "    ''' Get device (if GPU is available, use GPU) '''\n",
        "    return 'cuda' if torch.cuda.is_available() else 'cpu'\n",
        "\n",
        "def plot_learning_curve(loss_record, title=''):\n",
        "    ''' Plot learning curve of your DNN (train & dev loss) '''\n",
        "    total_steps = len(loss_record['train'])\n",
        "    x_1 = range(total_steps)\n",
        "    x_2 = x_1[::len(loss_record['train']) // len(loss_record['dev'])]\n",
        "    figure(figsize=(6, 4))\n",
        "    plt.plot(x_1, loss_record['train'], c='tab:red', label='train')\n",
        "    plt.plot(x_2, loss_record['dev'], c='tab:cyan', label='dev')\n",
        "    plt.ylim(0.0, 5.)\n",
        "    plt.xlabel('Training steps')\n",
        "    plt.ylabel('MSE loss')\n",
        "    plt.title('Learning curve of {}'.format(title))\n",
        "    plt.legend()\n",
        "    plt.show()\n",
        "\n",
        "\n",
        "def plot_pred(dv_set, model, device, lim=35., preds=None, targets=None):\n",
        "    ''' Plot prediction of your DNN '''\n",
        "    if preds is None or targets is None:\n",
        "        model.eval()\n",
        "        preds, targets = [], []\n",
        "        for x, y in dv_set:\n",
        "            x, y = x.to(device), y.to(device)\n",
        "            with torch.no_grad():\n",
        "                pred = model(x)\n",
        "                preds.append(pred.detach().cpu())\n",
        "                targets.append(y.detach().cpu())\n",
        "        preds = torch.cat(preds, dim=0).numpy()\n",
        "        targets = torch.cat(targets, dim=0).numpy()\n",
        "\n",
        "    figure(figsize=(5, 5))\n",
        "    plt.scatter(targets, preds, c='r', alpha=0.5)\n",
        "    plt.plot([-0.2, lim], [-0.2, lim], c='b')\n",
        "    plt.xlim(-0.2, lim)\n",
        "    plt.ylim(-0.2, lim)\n",
        "    plt.xlabel('ground truth value')\n",
        "    plt.ylabel('predicted value')\n",
        "    plt.title('Ground Truth v.s. Prediction')\n",
        "    plt.show()"
      ],
      "execution_count": 215,
      "outputs": []
    },
    {
      "cell_type": "markdown",
      "metadata": {
        "id": "39U_XFX6KOoj"
      },
      "source": [
        "# **Preprocess**\n",
        "\n",
        "We have three kinds of datasets:\n",
        "* `train`: for training\n",
        "* `dev`: for validation\n",
        "* `test`: for testing (w/o target value)"
      ]
    },
    {
      "cell_type": "markdown",
      "source": [
        "# **# Feature selection**"
      ],
      "metadata": {
        "id": "2xnn5W3oup_3"
      }
    },
    {
      "cell_type": "code",
      "source": [
        "df = pd.read_csv(\"covid.train.csv\")\n",
        "correlation_matrix = df.corr(method='pearson')\n",
        "last_column = df.columns[-1]\n",
        "correlation_with_last = correlation_matrix[last_column]\n",
        "filtered_corr = correlation_with_last[correlation_with_last > 0.8].drop(last_column)\n",
        "filtered_corr"
      ],
      "metadata": {
        "colab": {
          "base_uri": "https://localhost:8080/",
          "height": 523
        },
        "id": "w8wwBc6pvBuA",
        "outputId": "23f531dc-7369-4eac-9ab3-47ffbd078466"
      },
      "execution_count": 216,
      "outputs": [
        {
          "output_type": "execute_result",
          "data": {
            "text/plain": [
              "cli                  0.838504\n",
              "ili                  0.830527\n",
              "hh_cmnty_cli         0.879724\n",
              "nohh_cmnty_cli       0.869938\n",
              "tested_positive      0.981165\n",
              "cli.1                0.838224\n",
              "ili.1                0.829200\n",
              "hh_cmnty_cli.1       0.879438\n",
              "nohh_cmnty_cli.1     0.869278\n",
              "tested_positive.1    0.991012\n",
              "cli.2                0.835751\n",
              "ili.2                0.826075\n",
              "hh_cmnty_cli.2       0.878218\n",
              "nohh_cmnty_cli.2     0.867535\n",
              "Name: tested_positive.2, dtype: float64"
            ],
            "text/html": [
              "<div>\n",
              "<style scoped>\n",
              "    .dataframe tbody tr th:only-of-type {\n",
              "        vertical-align: middle;\n",
              "    }\n",
              "\n",
              "    .dataframe tbody tr th {\n",
              "        vertical-align: top;\n",
              "    }\n",
              "\n",
              "    .dataframe thead th {\n",
              "        text-align: right;\n",
              "    }\n",
              "</style>\n",
              "<table border=\"1\" class=\"dataframe\">\n",
              "  <thead>\n",
              "    <tr style=\"text-align: right;\">\n",
              "      <th></th>\n",
              "      <th>tested_positive.2</th>\n",
              "    </tr>\n",
              "  </thead>\n",
              "  <tbody>\n",
              "    <tr>\n",
              "      <th>cli</th>\n",
              "      <td>0.838504</td>\n",
              "    </tr>\n",
              "    <tr>\n",
              "      <th>ili</th>\n",
              "      <td>0.830527</td>\n",
              "    </tr>\n",
              "    <tr>\n",
              "      <th>hh_cmnty_cli</th>\n",
              "      <td>0.879724</td>\n",
              "    </tr>\n",
              "    <tr>\n",
              "      <th>nohh_cmnty_cli</th>\n",
              "      <td>0.869938</td>\n",
              "    </tr>\n",
              "    <tr>\n",
              "      <th>tested_positive</th>\n",
              "      <td>0.981165</td>\n",
              "    </tr>\n",
              "    <tr>\n",
              "      <th>cli.1</th>\n",
              "      <td>0.838224</td>\n",
              "    </tr>\n",
              "    <tr>\n",
              "      <th>ili.1</th>\n",
              "      <td>0.829200</td>\n",
              "    </tr>\n",
              "    <tr>\n",
              "      <th>hh_cmnty_cli.1</th>\n",
              "      <td>0.879438</td>\n",
              "    </tr>\n",
              "    <tr>\n",
              "      <th>nohh_cmnty_cli.1</th>\n",
              "      <td>0.869278</td>\n",
              "    </tr>\n",
              "    <tr>\n",
              "      <th>tested_positive.1</th>\n",
              "      <td>0.991012</td>\n",
              "    </tr>\n",
              "    <tr>\n",
              "      <th>cli.2</th>\n",
              "      <td>0.835751</td>\n",
              "    </tr>\n",
              "    <tr>\n",
              "      <th>ili.2</th>\n",
              "      <td>0.826075</td>\n",
              "    </tr>\n",
              "    <tr>\n",
              "      <th>hh_cmnty_cli.2</th>\n",
              "      <td>0.878218</td>\n",
              "    </tr>\n",
              "    <tr>\n",
              "      <th>nohh_cmnty_cli.2</th>\n",
              "      <td>0.867535</td>\n",
              "    </tr>\n",
              "  </tbody>\n",
              "</table>\n",
              "</div><br><label><b>dtype:</b> float64</label>"
            ]
          },
          "metadata": {},
          "execution_count": 216
        }
      ]
    },
    {
      "cell_type": "markdown",
      "metadata": {
        "id": "TQ-MdwpLL7Dt"
      },
      "source": [
        "## **Dataset**\n",
        "\n",
        "The `COVID19Dataset` below does:\n",
        "* read `.csv` files\n",
        "* extract features\n",
        "* split `covid.train.csv` into train/dev sets\n",
        "* normalize features\n",
        "\n",
        "Finishing `TODO` below might make you pass medium baseline."
      ]
    },
    {
      "cell_type": "code",
      "metadata": {
        "id": "0zlpIp9ANJRU"
      },
      "source": [
        "class COVID19Dataset(Dataset):\n",
        "    ''' Dataset for loading and preprocessing the COVID19 dataset '''\n",
        "    def __init__(self,\n",
        "                 path,\n",
        "                 mode='train',\n",
        "                 target_only=False):\n",
        "        self.mode = mode\n",
        "\n",
        "        # Read data into numpy arrays\n",
        "        with open(path, 'r') as fp:\n",
        "            data = list(csv.reader(fp))\n",
        "            data = np.array(data[1:])[:, 1:].astype(float)\n",
        "\n",
        "        if not target_only:\n",
        "            feats = list(range(93))\n",
        "        else:\n",
        "            # TODO: Using 40 states & 2 tested_positive features (indices = 57 & 75)\n",
        "            feats=[40,41,42,43,57,58,59,60,61,75,76,77,78,79]\n",
        "\n",
        "        if mode == 'test':\n",
        "            # Testing data\n",
        "            # data: 893 x 93 (40 states + day 1 (18) + day 2 (18) + day 3 (17))\n",
        "            data = data[:, feats]\n",
        "            self.data = torch.FloatTensor(data)\n",
        "        else:\n",
        "            # Training data (train/dev sets)\n",
        "            # data: 2700 x 94 (40 states + day 1 (18) + day 2 (18) + day 3 (18))\n",
        "            target = data[:, -1]\n",
        "            data = data[:, feats]\n",
        "\n",
        "            # Splitting training data into train & dev sets\n",
        "            if mode == 'train':\n",
        "                indices = [i for i in range(len(data)) if i % 10 != 0]\n",
        "            elif mode == 'dev':\n",
        "                indices = [i for i in range(len(data)) if i % 10 == 0]\n",
        "\n",
        "            # Convert data into PyTorch tensors\n",
        "            self.data = torch.FloatTensor(data[indices])\n",
        "            self.target = torch.FloatTensor(target[indices])\n",
        "\n",
        "        # Normalize features (you may remove this part to see what will happen)\n",
        "        self.data[:, 40:] = \\\n",
        "            (self.data[:, 40:] - self.data[:, 40:].mean(dim=0, keepdim=True)) \\\n",
        "            / self.data[:, 40:].std(dim=0, keepdim=True)\n",
        "\n",
        "        self.dim = self.data.shape[1]\n",
        "\n",
        "        print('Finished reading the {} set of COVID19 Dataset ({} samples found, each dim = {})'\n",
        "              .format(mode, len(self.data), self.dim))\n",
        "\n",
        "    def __getitem__(self, index):\n",
        "        # Returns one sample at a time\n",
        "        if self.mode in ['train', 'dev']:\n",
        "            # For training\n",
        "            return self.data[index], self.target[index]\n",
        "        else:\n",
        "            # For testing (no target)\n",
        "            return self.data[index]\n",
        "\n",
        "    def __len__(self):\n",
        "        # Returns the size of the dataset\n",
        "        return len(self.data)"
      ],
      "execution_count": 217,
      "outputs": []
    },
    {
      "cell_type": "markdown",
      "metadata": {
        "id": "AlhTlkE7MDo3"
      },
      "source": [
        "## **DataLoader**\n",
        "\n",
        "A `DataLoader` loads data from a given `Dataset` into batches.\n"
      ]
    },
    {
      "cell_type": "code",
      "metadata": {
        "id": "hlhLk5t6MBX3"
      },
      "source": [
        "def prep_dataloader(path, mode, batch_size, n_jobs=0, target_only=False):\n",
        "    ''' Generates a dataset, then is put into a dataloader. '''\n",
        "    dataset = COVID19Dataset(path, mode=mode, target_only=target_only)  # Construct dataset\n",
        "    dataloader = DataLoader(\n",
        "        dataset, batch_size,\n",
        "        shuffle=(mode == 'train'), drop_last=False,\n",
        "        num_workers=n_jobs, pin_memory=True)                            # Construct dataloader\n",
        "    return dataloader"
      ],
      "execution_count": 218,
      "outputs": []
    },
    {
      "cell_type": "markdown",
      "metadata": {
        "id": "SGuycwR0MeQB"
      },
      "source": [
        "# **Deep Neural Network**\n",
        "\n",
        "`NeuralNet` is an `nn.Module` designed for regression.\n",
        "The DNN consists of 2 fully-connected layers with ReLU activation.\n",
        "This module also included a function `cal_loss` for calculating loss.\n"
      ]
    },
    {
      "cell_type": "code",
      "metadata": {
        "id": "49-uXYovOAI0"
      },
      "source": [
        "class NeuralNet(nn.Module):\n",
        "    ''' A simple fully-connected deep neural network '''\n",
        "    def __init__(self, input_dim):\n",
        "        super(NeuralNet, self).__init__()\n",
        "\n",
        "        # Define your neural network here\n",
        "        # TODO: How to modify this model to achieve better performance?\n",
        "        self.net = nn.Sequential(\n",
        "            nn.Linear(input_dim,16),\n",
        "            nn.ReLU(),\n",
        "            nn.Linear(16, 1)\n",
        "        )\n",
        "\n",
        "        # Mean squared error loss\n",
        "        self.criterion = nn.MSELoss(reduction='mean')\n",
        "\n",
        "    def forward(self, x):\n",
        "        ''' Given input of size (batch_size x input_dim), compute output of the network '''\n",
        "        return self.net(x).squeeze(1)\n",
        "\n",
        "    def cal_loss(self, pred, target, alpha=0.02):\n",
        "        '''计算带 L2 正则化的损失'''\n",
        "        # 标准损失\n",
        "        loss = self.criterion(pred, target)\n",
        "\n",
        "        # 计算 L2 正则项\n",
        "        l2_term = sum(torch.sum(param**2) for param in self.parameters())\n",
        "        l2_penalty = alpha * l2_term\n",
        "\n",
        "        # 总损失 = 标准损失 + L2 正则化项\n",
        "        total_loss = loss + l2_penalty\n",
        "\n",
        "        return total_loss"
      ],
      "execution_count": 219,
      "outputs": []
    },
    {
      "cell_type": "markdown",
      "metadata": {
        "id": "DvFWVjZ5Nvga"
      },
      "source": [
        "# **Train/Dev/Test**"
      ]
    },
    {
      "cell_type": "markdown",
      "metadata": {
        "id": "MAM8QecJOyqn"
      },
      "source": [
        "## **Training**"
      ]
    },
    {
      "cell_type": "code",
      "metadata": {
        "id": "lOqcmYzMO7jB"
      },
      "source": [
        "def train(tr_set, dv_set, model, config, device):\n",
        "    ''' DNN training '''\n",
        "\n",
        "    n_epochs = config['n_epochs']  # Maximum number of epochs\n",
        "\n",
        "    # Setup optimizer\n",
        "    optimizer = getattr(torch.optim, config['optimizer'])(\n",
        "        model.parameters(), **config['optim_hparas'])\n",
        "\n",
        "    min_mse = 1000.\n",
        "    loss_record = {'train': [], 'dev': []}      # for recording training loss\n",
        "    early_stop_cnt = 0\n",
        "    epoch = 0\n",
        "    while epoch < n_epochs:\n",
        "        model.train()                           # set model to training mode\n",
        "        for x, y in tr_set:                     # iterate through the dataloader\n",
        "            optimizer.zero_grad()               # set gradient to zero\n",
        "            x, y = x.to(device), y.to(device)   # move data to device (cpu/cuda)\n",
        "            pred = model(x)                     # forward pass (compute output)\n",
        "            mse_loss = model.cal_loss(pred, y)  # compute loss\n",
        "            mse_loss.backward()                 # compute gradient (backpropagation)\n",
        "            optimizer.step()                    # update model with optimizer\n",
        "            loss_record['train'].append(mse_loss.detach().cpu().item())\n",
        "\n",
        "        # After each epoch, test your model on the validation (development) set.\n",
        "        dev_mse = dev(dv_set, model, device)\n",
        "        if dev_mse < min_mse:\n",
        "            # Save model if your model improved\n",
        "            min_mse = dev_mse\n",
        "            print('Saving model (epoch = {:4d}, loss = {:.4f})'\n",
        "                .format(epoch + 1, min_mse))\n",
        "            torch.save(model.state_dict(), config['save_path'])  # Save model to specified path\n",
        "            early_stop_cnt = 0\n",
        "        else:\n",
        "            early_stop_cnt += 1\n",
        "\n",
        "        epoch += 1\n",
        "        loss_record['dev'].append(dev_mse)\n",
        "        if early_stop_cnt > config['early_stop']:\n",
        "            # Stop training if your model stops improving for \"config['early_stop']\" epochs.\n",
        "            break\n",
        "\n",
        "    print('Finished training after {} epochs'.format(epoch))\n",
        "    return min_mse, loss_record"
      ],
      "execution_count": 220,
      "outputs": []
    },
    {
      "cell_type": "markdown",
      "metadata": {
        "id": "0hSd4Bn3O2PL"
      },
      "source": [
        "## **Validation**"
      ]
    },
    {
      "cell_type": "code",
      "metadata": {
        "id": "yrxrD3YsN3U2"
      },
      "source": [
        "def dev(dv_set, model, device):\n",
        "    model.eval()                                # set model to evalutation mode\n",
        "    total_loss = 0\n",
        "    for x, y in dv_set:                         # iterate through the dataloader\n",
        "        x, y = x.to(device), y.to(device)       # move data to device (cpu/cuda)\n",
        "        with torch.no_grad():                   # disable gradient calculation\n",
        "            pred = model(x)                     # forward pass (compute output)\n",
        "            mse_loss = model.cal_loss(pred, y)  # compute loss\n",
        "        total_loss += mse_loss.detach().cpu().item() * len(x)  # accumulate loss\n",
        "    total_loss = total_loss / len(dv_set.dataset)              # compute averaged loss\n",
        "\n",
        "    return total_loss"
      ],
      "execution_count": 221,
      "outputs": []
    },
    {
      "cell_type": "markdown",
      "metadata": {
        "id": "g0pdrhQAO41L"
      },
      "source": [
        "## **Testing**"
      ]
    },
    {
      "cell_type": "code",
      "metadata": {
        "id": "aSBMRFlYN5tB"
      },
      "source": [
        "def test(tt_set, model, device):\n",
        "    model.eval()                                # set model to evalutation mode\n",
        "    preds = []\n",
        "    for x in tt_set:                            # iterate through the dataloader\n",
        "        x = x.to(device)                        # move data to device (cpu/cuda)\n",
        "        with torch.no_grad():                   # disable gradient calculation\n",
        "            pred = model(x)                     # forward pass (compute output)\n",
        "            preds.append(pred.detach().cpu())   # collect prediction\n",
        "    preds = torch.cat(preds, dim=0).numpy()     # concatenate all predictions and convert to a numpy array\n",
        "    return preds"
      ],
      "execution_count": 222,
      "outputs": []
    },
    {
      "cell_type": "markdown",
      "metadata": {
        "id": "SvckkF5dvf0j"
      },
      "source": [
        "# **Setup Hyper-parameters**\n",
        "\n",
        "`config` contains hyper-parameters for training and the path to save your model."
      ]
    },
    {
      "cell_type": "code",
      "metadata": {
        "id": "NPXpdumwPjE7"
      },
      "source": [
        "device = get_device()                 # get the current available device ('cpu' or 'cuda')\n",
        "os.makedirs('models', exist_ok=True)  # The trained model will be saved to ./models/\n",
        "target_only = True                  # TODO: Using 40 states & 2 tested_positive features\n",
        "\n",
        "# TODO: How to tune these hyper-parameters to improve your model's performance?\n",
        "config = {\n",
        "    'n_epochs': 10000,                # maximum number of epochs\n",
        "    'batch_size': 120,               # mini-batch size for dataloader\n",
        "    'optimizer': 'Adam',              # optimization algorithm (optimizer in torch.optim)\n",
        "    'optim_hparas': {                # hyper-parameters for the optimizer (depends on which optimizer you are using)\n",
        "        'lr': 0.002,                 # learning rate of SGD\n",
        "        #'momentum': 0.9              # momentum for SGD\n",
        "    },\n",
        "    'early_stop': 1000,               # early stopping epochs (the number epochs since your model's last improvement)\n",
        "    'save_path': 'models/model.pth'  # your model will be saved here\n",
        "}"
      ],
      "execution_count": 223,
      "outputs": []
    },
    {
      "cell_type": "markdown",
      "metadata": {
        "id": "6j1eOV3TOH-j"
      },
      "source": [
        "# **Load data and model**"
      ]
    },
    {
      "cell_type": "code",
      "metadata": {
        "colab": {
          "base_uri": "https://localhost:8080/"
        },
        "id": "eNrYBMmePLKm",
        "outputId": "5891aec7-a98f-453c-c18b-ff75b70a7b6f"
      },
      "source": [
        "tr_set = prep_dataloader(tr_path, 'train', config['batch_size'], target_only=target_only)\n",
        "dv_set = prep_dataloader(tr_path, 'dev', config['batch_size'], target_only=target_only)\n",
        "tt_set = prep_dataloader(tt_path, 'test', config['batch_size'], target_only=target_only)"
      ],
      "execution_count": 224,
      "outputs": [
        {
          "output_type": "stream",
          "name": "stderr",
          "text": [
            "<ipython-input-217-bba6f3e8523d>:44: UserWarning: std(): degrees of freedom is <= 0. Correction should be strictly less than the reduction factor (input numel divided by output numel). (Triggered internally at ../aten/src/ATen/native/ReduceOps.cpp:1823.)\n",
            "  / self.data[:, 40:].std(dim=0, keepdim=True)\n"
          ]
        },
        {
          "output_type": "stream",
          "name": "stdout",
          "text": [
            "Finished reading the train set of COVID19 Dataset (2430 samples found, each dim = 14)\n",
            "Finished reading the dev set of COVID19 Dataset (270 samples found, each dim = 14)\n",
            "Finished reading the test set of COVID19 Dataset (893 samples found, each dim = 14)\n"
          ]
        }
      ]
    },
    {
      "cell_type": "code",
      "metadata": {
        "id": "FHylSirLP9oh"
      },
      "source": [
        "model = NeuralNet(tr_set.dataset.dim).to(device)  # Construct model and move to device"
      ],
      "execution_count": 225,
      "outputs": []
    },
    {
      "cell_type": "markdown",
      "metadata": {
        "id": "sX2B_zgSOPTJ"
      },
      "source": [
        "# **Start Training!**"
      ]
    },
    {
      "cell_type": "code",
      "metadata": {
        "colab": {
          "base_uri": "https://localhost:8080/"
        },
        "id": "GrEbUxazQAAZ",
        "outputId": "42e66720-5e6e-4f89-ebc3-28717bcca666"
      },
      "source": [
        "model_loss, model_loss_record = train(tr_set, dv_set, model, config, device)"
      ],
      "execution_count": 226,
      "outputs": [
        {
          "output_type": "stream",
          "name": "stdout",
          "text": [
            "Saving model (epoch =    1, loss = 196.9548)\n",
            "Saving model (epoch =    2, loss = 66.0427)\n",
            "Saving model (epoch =    3, loss = 15.9819)\n",
            "Saving model (epoch =    4, loss = 15.8770)\n",
            "Saving model (epoch =    5, loss = 14.2310)\n",
            "Saving model (epoch =    6, loss = 12.7508)\n",
            "Saving model (epoch =    7, loss = 10.9789)\n",
            "Saving model (epoch =    8, loss = 9.1426)\n",
            "Saving model (epoch =    9, loss = 7.2534)\n",
            "Saving model (epoch =   10, loss = 4.8570)\n",
            "Saving model (epoch =   11, loss = 2.8921)\n",
            "Saving model (epoch =   12, loss = 1.8797)\n",
            "Saving model (epoch =   13, loss = 1.4782)\n",
            "Saving model (epoch =   14, loss = 1.3817)\n",
            "Saving model (epoch =   16, loss = 1.3788)\n",
            "Saving model (epoch =   18, loss = 1.3267)\n",
            "Saving model (epoch =   20, loss = 1.3130)\n",
            "Saving model (epoch =   22, loss = 1.2961)\n",
            "Saving model (epoch =   23, loss = 1.2918)\n",
            "Saving model (epoch =   28, loss = 1.2673)\n",
            "Saving model (epoch =   31, loss = 1.2614)\n",
            "Saving model (epoch =   32, loss = 1.2449)\n",
            "Saving model (epoch =   34, loss = 1.2412)\n",
            "Saving model (epoch =   35, loss = 1.2366)\n",
            "Saving model (epoch =   36, loss = 1.2255)\n",
            "Saving model (epoch =   40, loss = 1.2079)\n",
            "Saving model (epoch =   41, loss = 1.2051)\n",
            "Saving model (epoch =   43, loss = 1.2017)\n",
            "Saving model (epoch =   44, loss = 1.1945)\n",
            "Saving model (epoch =   46, loss = 1.1859)\n",
            "Saving model (epoch =   51, loss = 1.1667)\n",
            "Saving model (epoch =   55, loss = 1.1641)\n",
            "Saving model (epoch =   60, loss = 1.1355)\n",
            "Saving model (epoch =   61, loss = 1.1321)\n",
            "Saving model (epoch =   62, loss = 1.1292)\n",
            "Saving model (epoch =   66, loss = 1.1159)\n",
            "Saving model (epoch =   71, loss = 1.1019)\n",
            "Saving model (epoch =   72, loss = 1.0985)\n",
            "Saving model (epoch =   80, loss = 1.0799)\n",
            "Saving model (epoch =   82, loss = 1.0728)\n",
            "Saving model (epoch =   85, loss = 1.0677)\n",
            "Saving model (epoch =   86, loss = 1.0672)\n",
            "Saving model (epoch =   87, loss = 1.0636)\n",
            "Saving model (epoch =   91, loss = 1.0621)\n",
            "Saving model (epoch =   92, loss = 1.0547)\n",
            "Saving model (epoch =   93, loss = 1.0545)\n",
            "Saving model (epoch =   95, loss = 1.0455)\n",
            "Saving model (epoch =   99, loss = 1.0449)\n",
            "Saving model (epoch =  102, loss = 1.0340)\n",
            "Saving model (epoch =  105, loss = 1.0227)\n",
            "Saving model (epoch =  106, loss = 1.0215)\n",
            "Saving model (epoch =  108, loss = 1.0193)\n",
            "Saving model (epoch =  112, loss = 1.0189)\n",
            "Saving model (epoch =  113, loss = 1.0083)\n",
            "Saving model (epoch =  118, loss = 1.0018)\n",
            "Saving model (epoch =  121, loss = 0.9953)\n",
            "Saving model (epoch =  122, loss = 0.9944)\n",
            "Saving model (epoch =  125, loss = 0.9924)\n",
            "Saving model (epoch =  126, loss = 0.9882)\n",
            "Saving model (epoch =  127, loss = 0.9863)\n",
            "Saving model (epoch =  133, loss = 0.9779)\n",
            "Saving model (epoch =  134, loss = 0.9765)\n",
            "Saving model (epoch =  138, loss = 0.9760)\n",
            "Saving model (epoch =  140, loss = 0.9706)\n",
            "Saving model (epoch =  148, loss = 0.9620)\n",
            "Saving model (epoch =  150, loss = 0.9590)\n",
            "Saving model (epoch =  151, loss = 0.9579)\n",
            "Saving model (epoch =  154, loss = 0.9565)\n",
            "Saving model (epoch =  159, loss = 0.9560)\n",
            "Saving model (epoch =  160, loss = 0.9479)\n",
            "Saving model (epoch =  163, loss = 0.9457)\n",
            "Saving model (epoch =  168, loss = 0.9437)\n",
            "Saving model (epoch =  171, loss = 0.9410)\n",
            "Saving model (epoch =  174, loss = 0.9391)\n",
            "Saving model (epoch =  175, loss = 0.9375)\n",
            "Saving model (epoch =  180, loss = 0.9369)\n",
            "Saving model (epoch =  182, loss = 0.9323)\n",
            "Saving model (epoch =  187, loss = 0.9282)\n",
            "Saving model (epoch =  189, loss = 0.9261)\n",
            "Saving model (epoch =  194, loss = 0.9248)\n",
            "Saving model (epoch =  198, loss = 0.9227)\n",
            "Saving model (epoch =  208, loss = 0.9170)\n",
            "Saving model (epoch =  219, loss = 0.9141)\n",
            "Saving model (epoch =  224, loss = 0.9126)\n",
            "Saving model (epoch =  227, loss = 0.9107)\n",
            "Saving model (epoch =  234, loss = 0.9104)\n",
            "Saving model (epoch =  236, loss = 0.9080)\n",
            "Saving model (epoch =  238, loss = 0.9067)\n",
            "Saving model (epoch =  240, loss = 0.9062)\n",
            "Saving model (epoch =  246, loss = 0.9056)\n",
            "Saving model (epoch =  250, loss = 0.9046)\n",
            "Saving model (epoch =  259, loss = 0.9019)\n",
            "Saving model (epoch =  263, loss = 0.9011)\n",
            "Saving model (epoch =  273, loss = 0.9006)\n",
            "Saving model (epoch =  275, loss = 0.8988)\n",
            "Saving model (epoch =  281, loss = 0.8975)\n",
            "Saving model (epoch =  294, loss = 0.8968)\n",
            "Saving model (epoch =  304, loss = 0.8965)\n",
            "Saving model (epoch =  324, loss = 0.8953)\n",
            "Saving model (epoch =  326, loss = 0.8942)\n",
            "Saving model (epoch =  335, loss = 0.8941)\n",
            "Saving model (epoch =  336, loss = 0.8939)\n",
            "Saving model (epoch =  342, loss = 0.8913)\n",
            "Saving model (epoch =  359, loss = 0.8904)\n",
            "Saving model (epoch =  408, loss = 0.8895)\n",
            "Saving model (epoch =  415, loss = 0.8880)\n",
            "Saving model (epoch =  428, loss = 0.8868)\n",
            "Saving model (epoch =  457, loss = 0.8864)\n",
            "Saving model (epoch =  459, loss = 0.8854)\n",
            "Saving model (epoch =  469, loss = 0.8853)\n",
            "Saving model (epoch =  499, loss = 0.8842)\n",
            "Saving model (epoch =  503, loss = 0.8799)\n",
            "Saving model (epoch =  507, loss = 0.8778)\n",
            "Saving model (epoch =  515, loss = 0.8770)\n",
            "Saving model (epoch =  518, loss = 0.8758)\n",
            "Saving model (epoch =  525, loss = 0.8756)\n",
            "Saving model (epoch =  530, loss = 0.8753)\n",
            "Saving model (epoch =  561, loss = 0.8752)\n",
            "Saving model (epoch =  563, loss = 0.8747)\n",
            "Saving model (epoch =  565, loss = 0.8734)\n",
            "Saving model (epoch =  588, loss = 0.8710)\n",
            "Saving model (epoch =  648, loss = 0.8706)\n",
            "Saving model (epoch =  678, loss = 0.8704)\n",
            "Saving model (epoch =  685, loss = 0.8701)\n",
            "Saving model (epoch =  687, loss = 0.8699)\n",
            "Saving model (epoch =  693, loss = 0.8697)\n",
            "Saving model (epoch =  695, loss = 0.8690)\n",
            "Saving model (epoch =  715, loss = 0.8686)\n",
            "Saving model (epoch =  733, loss = 0.8684)\n",
            "Saving model (epoch =  757, loss = 0.8682)\n",
            "Saving model (epoch =  771, loss = 0.8681)\n",
            "Saving model (epoch =  792, loss = 0.8680)\n",
            "Saving model (epoch =  796, loss = 0.8677)\n",
            "Saving model (epoch =  851, loss = 0.8676)\n",
            "Saving model (epoch =  879, loss = 0.8675)\n",
            "Saving model (epoch =  913, loss = 0.8669)\n",
            "Saving model (epoch =  924, loss = 0.8665)\n",
            "Saving model (epoch =  943, loss = 0.8662)\n",
            "Saving model (epoch =  945, loss = 0.8660)\n",
            "Saving model (epoch =  974, loss = 0.8656)\n",
            "Saving model (epoch = 1067, loss = 0.8648)\n",
            "Saving model (epoch = 1135, loss = 0.8648)\n",
            "Saving model (epoch = 1142, loss = 0.8647)\n",
            "Saving model (epoch = 1161, loss = 0.8646)\n",
            "Saving model (epoch = 2063, loss = 0.8642)\n",
            "Saving model (epoch = 2064, loss = 0.8639)\n",
            "Saving model (epoch = 2181, loss = 0.8632)\n",
            "Saving model (epoch = 2354, loss = 0.8625)\n",
            "Saving model (epoch = 2641, loss = 0.8623)\n",
            "Saving model (epoch = 2684, loss = 0.8622)\n",
            "Saving model (epoch = 2686, loss = 0.8613)\n",
            "Saving model (epoch = 2862, loss = 0.8613)\n",
            "Saving model (epoch = 2920, loss = 0.8609)\n",
            "Saving model (epoch = 2922, loss = 0.8604)\n",
            "Saving model (epoch = 3108, loss = 0.8595)\n",
            "Finished training after 4109 epochs\n"
          ]
        }
      ]
    },
    {
      "cell_type": "code",
      "metadata": {
        "colab": {
          "base_uri": "https://localhost:8080/",
          "height": 410
        },
        "id": "hsNO9nnXQBvP",
        "outputId": "eb287aaf-3fc0-41ac-af6d-dc65ba11ca68"
      },
      "source": [
        "plot_learning_curve(model_loss_record, title='deep model')"
      ],
      "execution_count": 227,
      "outputs": [
        {
          "output_type": "display_data",
          "data": {
            "text/plain": [
              "<Figure size 600x400 with 1 Axes>"
            ],
            "image/png": "[encoded data removed]"
          },
          "metadata": {}
        }
      ]
    },
    {
      "cell_type": "code",
      "metadata": {
        "colab": {
          "base_uri": "https://localhost:8080/",
          "height": 543
        },
        "id": "3iZTVn5WQFpX",
        "outputId": "434d9b8f-2dea-434b-8145-b2a14f53cb68"
      },
      "source": [
        "del model\n",
        "model = NeuralNet(tr_set.dataset.dim).to(device)\n",
        "ckpt = torch.load(config['save_path'], map_location='cpu')  # Load your best model\n",
        "model.load_state_dict(ckpt)\n",
        "plot_pred(dv_set, model, device)  # Show prediction on the validation set"
      ],
      "execution_count": 228,
      "outputs": [
        {
          "output_type": "stream",
          "name": "stderr",
          "text": [
            "<ipython-input-228-5bebdf951c03>:3: FutureWarning: You are using `torch.load` with `weights_only=False` (the current default value), which uses the default pickle module implicitly. It is possible to construct malicious pickle data which will execute arbitrary code during unpickling (See https://github.com/pytorch/pytorch/blob/main/SECURITY.md#untrusted-models for more details). In a future release, the default value for `weights_only` will be flipped to `True`. This limits the functions that could be executed during unpickling. Arbitrary objects will no longer be allowed to be loaded via this mode unless they are explicitly allowlisted by the user via `torch.serialization.add_safe_globals`. We recommend you start setting `weights_only=True` for any use case where you don't have full control of the loaded file. Please open an issue on GitHub for any issues related to this experimental feature.\n",
            "  ckpt = torch.load(config['save_path'], map_location='cpu')  # Load your best model\n"
          ]
        },
        {
          "output_type": "display_data",
          "data": {
            "text/plain": [
              "<Figure size 500x500 with 1 Axes>"
            ],
            "image/png": "[encoded data removed]"
          },
          "metadata": {}
        }
      ]
    },
    {
      "cell_type": "markdown",
      "metadata": {
        "id": "aQikz3IPiyPf"
      },
      "source": [
        "# **Testing**\n",
        "The predictions of your model on testing set will be stored at `pred.csv`."
      ]
    },
    {
      "cell_type": "code",
      "metadata": {
        "colab": {
          "base_uri": "https://localhost:8080/"
        },
        "id": "O8cTuQjQQOon",
        "outputId": "ce875be1-b457-44d6-92c9-f0aa4799679a"
      },
      "source": [
        "def save_pred(preds, file):\n",
        "    ''' Save predictions to specified file '''\n",
        "    print('Saving results to {}'.format(file))\n",
        "    with open(file, 'w') as fp:\n",
        "        writer = csv.writer(fp)\n",
        "        writer.writerow(['id', 'tested_positive'])\n",
        "        for i, p in enumerate(preds):\n",
        "            writer.writerow([i, p])\n",
        "\n",
        "preds = test(tt_set, model, device)  # predict COVID-19 cases with your model\n",
        "save_pred(preds, 'pred.csv')         # save prediction file to pred.csv"
      ],
      "execution_count": 229,
      "outputs": [
        {
          "output_type": "stream",
          "name": "stdout",
          "text": [
            "Saving results to pred.csv\n"
          ]
        }
      ]
    },
    {
      "cell_type": "markdown",
      "metadata": {
        "id": "nfrVxqJanGpE"
      },
      "source": [
        "# **Hints**\n",
        "\n",
        "## **Simple Baseline**\n",
        "* Run sample code\n",
        "\n",
        "## **Medium Baseline**\n",
        "* Feature selection: 40 states + 2 `tested_positive` (`TODO` in dataset)\n",
        "\n",
        "## **Strong Baseline**\n",
        "* Feature selection (what other features are useful?)\n",
        "* DNN architecture (layers? dimension? activation function?)\n",
        "* Training (mini-batch? optimizer? learning rate?)\n",
        "* L2 regularization\n",
        "* There are some mistakes in the sample code, can you find them?"
      ]
    },
    {
      "cell_type": "markdown",
      "metadata": {
        "id": "9tmCwXgpot3t"
      },
      "source": [
        "# **Reference**\n",
        "This code is completely written by Heng-Jui Chang @ NTUEE.  \n",
        "Copying or reusing this code is required to specify the original author.\n",
        "\n",
        "E.g.  \n",
        "Source: Heng-Jui Chang @ NTUEE (https://github.com/ga642381/ML2021-Spring/blob/main/HW01/HW01.ipynb)\n"
      ]
    }
  ]
}